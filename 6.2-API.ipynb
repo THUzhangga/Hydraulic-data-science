{
 "cells": [
  {
   "cell_type": "markdown",
   "metadata": {},
   "source": [
    "# Face++"
   ]
  },
  {
   "cell_type": "markdown",
   "metadata": {},
   "source": [
    "https://console.faceplusplus.com.cn/documents/4888373"
   ]
  },
  {
   "cell_type": "markdown",
   "metadata": {},
   "source": [
    "![title](IMG/face.jpg)"
   ]
  },
  {
   "cell_type": "code",
   "execution_count": 1,
   "metadata": {},
   "outputs": [],
   "source": [
    "# -*- coding: utf-8 -*-\n",
    "import urllib.request\n",
    "import urllib.error\n",
    "import time\n",
    "import json\n",
    "\n",
    "http_url = 'https://api-cn.faceplusplus.com/facepp/v3/detect'\n",
    "key = \"********\"\n",
    "secret = \"********\"\n",
    "filepath = r\"IMG/face.jpg\"\n",
    "\n",
    "boundary = '----------%s' % hex(int(time.time() * 1000))\n",
    "data = []\n",
    "data.append('--%s' % boundary)\n",
    "data.append('Content-Disposition: form-data; name=\"%s\"\\r\\n' % 'api_key')\n",
    "data.append(key)\n",
    "data.append('--%s' % boundary)\n",
    "data.append('Content-Disposition: form-data; name=\"%s\"\\r\\n' % 'api_secret')\n",
    "data.append(secret)\n",
    "data.append('--%s' % boundary)\n",
    "fr = open(filepath, 'rb')\n",
    "data.append('Content-Disposition: form-data; name=\"%s\"; filename=\" \"' % 'image_file')\n",
    "data.append('Content-Type: %s\\r\\n' % 'application/octet-stream')\n",
    "data.append(fr.read())\n",
    "fr.close()\n",
    "data.append('--%s' % boundary)\n",
    "data.append('Content-Disposition: form-data; name=\"%s\"\\r\\n' % 'return_landmark')\n",
    "data.append('1')\n",
    "data.append('--%s' % boundary)\n",
    "data.append('Content-Disposition: form-data; name=\"%s\"\\r\\n' % 'return_attributes')\n",
    "data.append(\n",
    "    \"gender,age,smiling,headpose,facequality,blur,eyestatus,emotion,ethnicity,beauty,mouthstatus,eyegaze,skinstatus\")\n",
    "data.append('--%s--\\r\\n' % boundary)\n",
    "\n",
    "for i, d in enumerate(data):\n",
    "    if isinstance(d, str):\n",
    "        data[i] = d.encode('utf-8')\n",
    "\n",
    "http_body = b'\\r\\n'.join(data)\n",
    "\n",
    "# build http request\n",
    "req = urllib.request.Request(url=http_url, data=http_body)\n",
    "\n",
    "# header\n",
    "req.add_header('Content-Type', 'multipart/form-data; boundary=%s' % boundary)\n",
    "\n",
    "try:\n",
    "    # post data to server\n",
    "    resp = urllib.request.urlopen(req, timeout=5)\n",
    "    # get response\n",
    "    qrcont = resp.read()\n",
    "    # if you want to load as json, you should decode first,\n",
    "    # for example: json.loads(qrount.decode('utf-8'))\n",
    "    json_get = json.loads(qrcont.decode('utf-8'))\n",
    "except urllib.error.HTTPError as e:\n",
    "    print(e.read().decode('utf-8'))"
   ]
  },
  {
   "cell_type": "code",
   "execution_count": 2,
   "metadata": {},
   "outputs": [
    {
     "data": {
      "text/plain": [
       "{'image_id': '5V4d2BL+eehtjIQiTLSS4Q==',\n",
       " 'request_id': '1554905752,a7341c9d-e7e0-4403-9e27-6fe59c6214d5',\n",
       " 'time_used': 521,\n",
       " 'faces': [{'landmark': {'mouth_upper_lip_left_contour2': {'y': 432, 'x': 375},\n",
       "    'mouth_upper_lip_top': {'y': 432, 'x': 406},\n",
       "    'mouth_upper_lip_left_contour1': {'y': 429, 'x': 397},\n",
       "    'left_eye_upper_left_quarter': {'y': 338, 'x': 362},\n",
       "    'left_eyebrow_lower_middle': {'y': 308, 'x': 362},\n",
       "    'mouth_upper_lip_left_contour3': {'y': 439, 'x': 380},\n",
       "    'right_eye_top': {'y': 337, 'x': 440},\n",
       "    'left_eye_bottom': {'y': 343, 'x': 371},\n",
       "    'right_eyebrow_lower_left_quarter': {'y': 312, 'x': 432},\n",
       "    'right_eye_pupil': {'y': 340, 'x': 440},\n",
       "    'mouth_lower_lip_right_contour1': {'y': 449, 'x': 414},\n",
       "    'mouth_lower_lip_right_contour3': {'y': 463, 'x': 412},\n",
       "    'mouth_lower_lip_right_contour2': {'y': 455, 'x': 420},\n",
       "    'contour_chin': {'y': 512, 'x': 396},\n",
       "    'contour_left9': {'y': 512, 'x': 365},\n",
       "    'left_eye_lower_right_quarter': {'y': 343, 'x': 380},\n",
       "    'mouth_lower_lip_top': {'y': 451, 'x': 400},\n",
       "    'right_eyebrow_upper_middle': {'y': 302, 'x': 440},\n",
       "    'left_eyebrow_left_corner': {'y': 307, 'x': 329},\n",
       "    'right_eye_bottom': {'y': 344, 'x': 441},\n",
       "    'contour_left7': {'y': 490, 'x': 306},\n",
       "    'contour_left6': {'y': 474, 'x': 280},\n",
       "    'contour_left5': {'y': 451, 'x': 261},\n",
       "    'contour_left4': {'y': 424, 'x': 250},\n",
       "    'contour_left3': {'y': 395, 'x': 246},\n",
       "    'contour_left2': {'y': 366, 'x': 245},\n",
       "    'contour_left1': {'y': 338, 'x': 248},\n",
       "    'left_eye_lower_left_quarter': {'y': 342, 'x': 362},\n",
       "    'contour_right1': {'y': 344, 'x': 460},\n",
       "    'contour_right3': {'y': 384, 'x': 463},\n",
       "    'contour_right2': {'y': 363, 'x': 462},\n",
       "    'mouth_left_corner': {'y': 439, 'x': 354},\n",
       "    'contour_right4': {'y': 405, 'x': 460},\n",
       "    'contour_right7': {'y': 464, 'x': 434},\n",
       "    'right_eyebrow_left_corner': {'y': 312, 'x': 422},\n",
       "    'nose_right': {'y': 398, 'x': 433},\n",
       "    'nose_tip': {'y': 390, 'x': 421},\n",
       "    'contour_right5': {'y': 425, 'x': 453},\n",
       "    'nose_contour_lower_middle': {'y': 410, 'x': 412},\n",
       "    'left_eyebrow_lower_left_quarter': {'y': 308, 'x': 345},\n",
       "    'mouth_lower_lip_left_contour3': {'y': 462, 'x': 380},\n",
       "    'right_eye_right_corner': {'y': 341, 'x': 454},\n",
       "    'right_eye_lower_right_quarter': {'y': 343, 'x': 447},\n",
       "    'mouth_upper_lip_right_contour2': {'y': 435, 'x': 423},\n",
       "    'right_eyebrow_lower_right_quarter': {'y': 310, 'x': 449},\n",
       "    'left_eye_left_corner': {'y': 339, 'x': 353},\n",
       "    'mouth_right_corner': {'y': 444, 'x': 425},\n",
       "    'mouth_upper_lip_right_contour3': {'y': 441, 'x': 416},\n",
       "    'right_eye_lower_left_quarter': {'y': 343, 'x': 434},\n",
       "    'left_eyebrow_right_corner': {'y': 309, 'x': 397},\n",
       "    'left_eyebrow_lower_right_quarter': {'y': 309, 'x': 379},\n",
       "    'right_eye_center': {'y': 341, 'x': 440},\n",
       "    'nose_left': {'y': 397, 'x': 377},\n",
       "    'mouth_lower_lip_left_contour1': {'y': 447, 'x': 378},\n",
       "    'left_eye_upper_right_quarter': {'y': 338, 'x': 380},\n",
       "    'right_eyebrow_lower_middle': {'y': 311, 'x': 441},\n",
       "    'left_eye_top': {'y': 337, 'x': 371},\n",
       "    'left_eye_center': {'y': 340, 'x': 371},\n",
       "    'contour_left8': {'y': 503, 'x': 335},\n",
       "    'contour_right9': {'y': 500, 'x': 413},\n",
       "    'right_eye_left_corner': {'y': 342, 'x': 427},\n",
       "    'mouth_lower_lip_bottom': {'y': 466, 'x': 399},\n",
       "    'left_eyebrow_upper_left_quarter': {'y': 295, 'x': 343},\n",
       "    'left_eye_pupil': {'y': 340, 'x': 373},\n",
       "    'right_eyebrow_upper_left_quarter': {'y': 305, 'x': 430},\n",
       "    'contour_right8': {'y': 481, 'x': 423},\n",
       "    'right_eyebrow_right_corner': {'y': 309, 'x': 457},\n",
       "    'right_eye_upper_left_quarter': {'y': 338, 'x': 433},\n",
       "    'left_eyebrow_upper_middle': {'y': 292, 'x': 362},\n",
       "    'right_eyebrow_upper_right_quarter': {'y': 303, 'x': 450},\n",
       "    'nose_contour_left1': {'y': 345, 'x': 393},\n",
       "    'nose_contour_left2': {'y': 380, 'x': 388},\n",
       "    'mouth_upper_lip_right_contour1': {'y': 430, 'x': 415},\n",
       "    'nose_contour_right1': {'y': 346, 'x': 420},\n",
       "    'nose_contour_right2': {'y': 382, 'x': 428},\n",
       "    'mouth_lower_lip_left_contour2': {'y': 453, 'x': 365},\n",
       "    'contour_right6': {'y': 445, 'x': 444},\n",
       "    'nose_contour_right3': {'y': 406, 'x': 425},\n",
       "    'nose_contour_left3': {'y': 406, 'x': 394},\n",
       "    'left_eye_right_corner': {'y': 342, 'x': 388},\n",
       "    'left_eyebrow_upper_right_quarter': {'y': 295, 'x': 382},\n",
       "    'right_eye_upper_right_quarter': {'y': 338, 'x': 447},\n",
       "    'mouth_upper_lip_bottom': {'y': 440, 'x': 404}},\n",
       "   'attributes': {'emotion': {'sadness': 0.046,\n",
       "     'neutral': 0.008,\n",
       "     'disgust': 0.007,\n",
       "     'anger': 0.042,\n",
       "     'surprise': 0.632,\n",
       "     'fear': 0.007,\n",
       "     'happiness': 99.258},\n",
       "    'beauty': {'female_score': 60.19, 'male_score': 61.89},\n",
       "    'gender': {'value': 'Male'},\n",
       "    'age': {'value': 39},\n",
       "    'mouthstatus': {'close': 0.002,\n",
       "     'surgical_mask_or_respirator': 0.0,\n",
       "     'open': 99.998,\n",
       "     'other_occlusion': 0.0},\n",
       "    'glass': {'value': 'Normal'},\n",
       "    'skinstatus': {'dark_circle': 27.472,\n",
       "     'stain': 6.72,\n",
       "     'acne': 2.669,\n",
       "     'health': 4.554},\n",
       "    'headpose': {'yaw_angle': -20.490482,\n",
       "     'pitch_angle': 12.1542845,\n",
       "     'roll_angle': 2.0515466},\n",
       "    'blur': {'blurness': {'threshold': 50.0, 'value': 0.624},\n",
       "     'motionblur': {'threshold': 50.0, 'value': 0.624},\n",
       "     'gaussianblur': {'threshold': 50.0, 'value': 0.624}},\n",
       "    'smile': {'threshold': 50.0, 'value': 48.652},\n",
       "    'eyestatus': {'left_eye_status': {'normal_glass_eye_open': 59.531,\n",
       "      'no_glass_eye_close': 0.053,\n",
       "      'occlusion': 0.802,\n",
       "      'no_glass_eye_open': 2.797,\n",
       "      'normal_glass_eye_close': 34.138,\n",
       "      'dark_glasses': 2.679},\n",
       "     'right_eye_status': {'normal_glass_eye_open': 10.055,\n",
       "      'no_glass_eye_close': 7.027,\n",
       "      'occlusion': 42.557,\n",
       "      'no_glass_eye_open': 3.608,\n",
       "      'normal_glass_eye_close': 33.173,\n",
       "      'dark_glasses': 3.58}},\n",
       "    'facequality': {'threshold': 70.1, 'value': 11.736},\n",
       "    'ethnicity': {'value': 'ASIAN'},\n",
       "    'eyegaze': {'right_eye_gaze': {'position_x_coordinate': 0.562,\n",
       "      'vector_z_component': 0.805,\n",
       "      'vector_x_component': -0.095,\n",
       "      'vector_y_component': -0.585,\n",
       "      'position_y_coordinate': 0.357},\n",
       "     'left_eye_gaze': {'position_x_coordinate': 0.53,\n",
       "      'vector_z_component': 0.649,\n",
       "      'vector_x_component': 0.333,\n",
       "      'vector_y_component': -0.684,\n",
       "      'position_y_coordinate': 0.34}}},\n",
       "   'face_rectangle': {'width': 220, 'top': 291, 'left': 244, 'height': 220},\n",
       "   'face_token': '47a87a1900be60d8fedc7cd198d8d9f0'},\n",
       "  {'landmark': {'mouth_upper_lip_left_contour2': {'y': 412, 'x': 994},\n",
       "    'mouth_upper_lip_top': {'y': 411, 'x': 1004},\n",
       "    'mouth_upper_lip_left_contour1': {'y': 409, 'x': 998},\n",
       "    'left_eye_upper_left_quarter': {'y': 318, 'x': 980},\n",
       "    'left_eyebrow_lower_middle': {'y': 297, 'x': 979},\n",
       "    'mouth_upper_lip_left_contour3': {'y': 418, 'x': 1000},\n",
       "    'right_eye_top': {'y': 319, 'x': 1056},\n",
       "    'left_eye_bottom': {'y': 321, 'x': 986},\n",
       "    'right_eyebrow_lower_left_quarter': {'y': 303, 'x': 1038},\n",
       "    'right_eye_pupil': {'y': 323, 'x': 1057},\n",
       "    'mouth_lower_lip_right_contour1': {'y': 421, 'x': 1033},\n",
       "    'mouth_lower_lip_right_contour3': {'y': 434, 'x': 1028},\n",
       "    'mouth_lower_lip_right_contour2': {'y': 428, 'x': 1046},\n",
       "    'contour_chin': {'y': 481, 'x': 1026},\n",
       "    'contour_left9': {'y': 469, 'x': 1011},\n",
       "    'left_eye_lower_right_quarter': {'y': 320, 'x': 992},\n",
       "    'mouth_lower_lip_top': {'y': 420, 'x': 1008},\n",
       "    'right_eyebrow_upper_middle': {'y': 290, 'x': 1054},\n",
       "    'left_eyebrow_left_corner': {'y': 292, 'x': 966},\n",
       "    'right_eye_bottom': {'y': 327, 'x': 1057},\n",
       "    'contour_left7': {'y': 432, 'x': 996},\n",
       "    'contour_left6': {'y': 413, 'x': 989},\n",
       "    'contour_left5': {'y': 394, 'x': 983},\n",
       "    'contour_left4': {'y': 376, 'x': 976},\n",
       "    'contour_left3': {'y': 356, 'x': 971},\n",
       "    'contour_left2': {'y': 337, 'x': 969},\n",
       "    'contour_left1': {'y': 317, 'x': 969},\n",
       "    'left_eye_lower_left_quarter': {'y': 320, 'x': 980},\n",
       "    'contour_right1': {'y': 326, 'x': 1164},\n",
       "    'contour_right3': {'y': 378, 'x': 1162},\n",
       "    'contour_right2': {'y': 352, 'x': 1164},\n",
       "    'mouth_left_corner': {'y': 415, 'x': 995},\n",
       "    'contour_right4': {'y': 404, 'x': 1156},\n",
       "    'contour_right7': {'y': 465, 'x': 1105},\n",
       "    'right_eyebrow_left_corner': {'y': 302, 'x': 1022},\n",
       "    'nose_right': {'y': 378, 'x': 1042},\n",
       "    'nose_tip': {'y': 376, 'x': 995},\n",
       "    'contour_right5': {'y': 428, 'x': 1144},\n",
       "    'nose_contour_lower_middle': {'y': 391, 'x': 1009},\n",
       "    'left_eyebrow_lower_left_quarter': {'y': 295, 'x': 972},\n",
       "    'mouth_lower_lip_left_contour3': {'y': 431, 'x': 1001},\n",
       "    'right_eye_right_corner': {'y': 321, 'x': 1076},\n",
       "    'right_eye_lower_right_quarter': {'y': 325, 'x': 1067},\n",
       "    'mouth_upper_lip_right_contour2': {'y': 415, 'x': 1035},\n",
       "    'right_eyebrow_lower_right_quarter': {'y': 303, 'x': 1071},\n",
       "    'left_eye_left_corner': {'y': 317, 'x': 974},\n",
       "    'mouth_right_corner': {'y': 419, 'x': 1062},\n",
       "    'mouth_upper_lip_right_contour3': {'y': 421, 'x': 1033},\n",
       "    'right_eye_lower_left_quarter': {'y': 325, 'x': 1047},\n",
       "    'left_eyebrow_right_corner': {'y': 299, 'x': 994},\n",
       "    'left_eyebrow_lower_right_quarter': {'y': 299, 'x': 986},\n",
       "    'right_eye_center': {'y': 322, 'x': 1057},\n",
       "    'nose_left': {'y': 379, 'x': 990},\n",
       "    'mouth_lower_lip_left_contour1': {'y': 418, 'x': 1001},\n",
       "    'left_eye_upper_right_quarter': {'y': 319, 'x': 992},\n",
       "    'right_eyebrow_lower_middle': {'y': 302, 'x': 1054},\n",
       "    'left_eye_top': {'y': 319, 'x': 986},\n",
       "    'left_eye_center': {'y': 319, 'x': 986},\n",
       "    'contour_left8': {'y': 451, 'x': 1003},\n",
       "    'contour_right9': {'y': 484, 'x': 1053},\n",
       "    'right_eye_left_corner': {'y': 321, 'x': 1038},\n",
       "    'mouth_lower_lip_bottom': {'y': 435, 'x': 1010},\n",
       "    'left_eyebrow_upper_left_quarter': {'y': 290, 'x': 972},\n",
       "    'left_eye_pupil': {'y': 320, 'x': 986},\n",
       "    'right_eyebrow_upper_left_quarter': {'y': 293, 'x': 1037},\n",
       "    'contour_right8': {'y': 477, 'x': 1080},\n",
       "    'right_eyebrow_right_corner': {'y': 303, 'x': 1087},\n",
       "    'right_eye_upper_left_quarter': {'y': 319, 'x': 1046},\n",
       "    'left_eyebrow_upper_middle': {'y': 291, 'x': 980},\n",
       "    'right_eyebrow_upper_right_quarter': {'y': 293, 'x': 1072},\n",
       "    'nose_contour_left1': {'y': 318, 'x': 1002},\n",
       "    'nose_contour_left2': {'y': 361, 'x': 993},\n",
       "    'mouth_upper_lip_right_contour1': {'y': 410, 'x': 1012},\n",
       "    'nose_contour_right1': {'y': 320, 'x': 1027},\n",
       "    'nose_contour_right2': {'y': 361, 'x': 1033},\n",
       "    'mouth_lower_lip_left_contour2': {'y': 423, 'x': 997},\n",
       "    'contour_right6': {'y': 448, 'x': 1126},\n",
       "    'nose_contour_right3': {'y': 387, 'x': 1026},\n",
       "    'nose_contour_left3': {'y': 387, 'x': 997},\n",
       "    'left_eye_right_corner': {'y': 319, 'x': 998},\n",
       "    'left_eyebrow_upper_right_quarter': {'y': 294, 'x': 988},\n",
       "    'right_eye_upper_right_quarter': {'y': 320, 'x': 1067},\n",
       "    'mouth_upper_lip_bottom': {'y': 420, 'x': 1007}},\n",
       "   'attributes': {'emotion': {'sadness': 2.966,\n",
       "     'neutral': 61.532,\n",
       "     'disgust': 3.6,\n",
       "     'anger': 28.932,\n",
       "     'surprise': 2.3,\n",
       "     'fear': 0.163,\n",
       "     'happiness': 0.507},\n",
       "    'beauty': {'female_score': 50.745, 'male_score': 49.164},\n",
       "    'gender': {'value': 'Male'},\n",
       "    'age': {'value': 78},\n",
       "    'mouthstatus': {'close': 36.475,\n",
       "     'surgical_mask_or_respirator': 0.248,\n",
       "     'open': 9.372,\n",
       "     'other_occlusion': 53.904},\n",
       "    'glass': {'value': 'Dark'},\n",
       "    'skinstatus': {'dark_circle': 71.041,\n",
       "     'stain': 0.741,\n",
       "     'acne': 1.071,\n",
       "     'health': 2.849},\n",
       "    'headpose': {'yaw_angle': 30.946907,\n",
       "     'pitch_angle': 14.319925,\n",
       "     'roll_angle': -4.3498874},\n",
       "    'blur': {'blurness': {'threshold': 50.0, 'value': 0.484},\n",
       "     'motionblur': {'threshold': 50.0, 'value': 0.484},\n",
       "     'gaussianblur': {'threshold': 50.0, 'value': 0.484}},\n",
       "    'smile': {'threshold': 50.0, 'value': 0.259},\n",
       "    'eyestatus': {'left_eye_status': {'normal_glass_eye_open': 0.03,\n",
       "      'no_glass_eye_close': 6.975,\n",
       "      'occlusion': 1.07,\n",
       "      'no_glass_eye_open': 18.5,\n",
       "      'normal_glass_eye_close': 0.096,\n",
       "      'dark_glasses': 73.328},\n",
       "     'right_eye_status': {'normal_glass_eye_open': 0.158,\n",
       "      'no_glass_eye_close': 26.826,\n",
       "      'occlusion': 0.361,\n",
       "      'no_glass_eye_open': 58.041,\n",
       "      'normal_glass_eye_close': 0.971,\n",
       "      'dark_glasses': 13.643}},\n",
       "    'facequality': {'threshold': 70.1, 'value': 0.006},\n",
       "    'ethnicity': {'value': 'BLACK'},\n",
       "    'eyegaze': {'right_eye_gaze': {'position_x_coordinate': 0.483,\n",
       "      'vector_z_component': 0.738,\n",
       "      'vector_x_component': -0.283,\n",
       "      'vector_y_component': 0.612,\n",
       "      'position_y_coordinate': 0.7},\n",
       "     'left_eye_gaze': {'position_x_coordinate': 0.484,\n",
       "      'vector_z_component': 0.914,\n",
       "      'vector_x_component': -0.17,\n",
       "      'vector_y_component': 0.368,\n",
       "      'position_y_coordinate': 0.426}}},\n",
       "   'face_rectangle': {'width': 201, 'top': 287, 'left': 961, 'height': 201},\n",
       "   'face_token': '6e4fc25ca0339304c8c8a4c0e55a71e3'}]}"
      ]
     },
     "execution_count": 2,
     "metadata": {},
     "output_type": "execute_result"
    }
   ],
   "source": [
    "json_get"
   ]
  },
  {
   "cell_type": "code",
   "execution_count": 5,
   "metadata": {},
   "outputs": [
    {
     "data": {
      "text/plain": [
       "dict_keys(['image_id', 'request_id', 'time_used', 'faces'])"
      ]
     },
     "execution_count": 5,
     "metadata": {},
     "output_type": "execute_result"
    }
   ],
   "source": [
    "json_get.keys()"
   ]
  },
  {
   "cell_type": "code",
   "execution_count": 6,
   "metadata": {},
   "outputs": [
    {
     "data": {
      "text/plain": [
       "2"
      ]
     },
     "execution_count": 6,
     "metadata": {},
     "output_type": "execute_result"
    }
   ],
   "source": [
    "len(json_get['faces'])"
   ]
  },
  {
   "cell_type": "code",
   "execution_count": 7,
   "metadata": {},
   "outputs": [
    {
     "data": {
      "text/plain": [
       "dict_keys(['landmark', 'attributes', 'face_rectangle', 'face_token'])"
      ]
     },
     "execution_count": 7,
     "metadata": {},
     "output_type": "execute_result"
    }
   ],
   "source": [
    "json_get['faces'][0].keys()"
   ]
  },
  {
   "cell_type": "code",
   "execution_count": 8,
   "metadata": {},
   "outputs": [
    {
     "data": {
      "text/plain": [
       "dict_keys(['emotion', 'beauty', 'gender', 'age', 'mouthstatus', 'glass', 'skinstatus', 'headpose', 'blur', 'smile', 'eyestatus', 'facequality', 'ethnicity', 'eyegaze'])"
      ]
     },
     "execution_count": 8,
     "metadata": {},
     "output_type": "execute_result"
    }
   ],
   "source": [
    "json_get['faces'][0]['attributes'].keys()"
   ]
  },
  {
   "cell_type": "code",
   "execution_count": 9,
   "metadata": {},
   "outputs": [
    {
     "data": {
      "text/plain": [
       "{'value': 39}"
      ]
     },
     "execution_count": 9,
     "metadata": {},
     "output_type": "execute_result"
    }
   ],
   "source": [
    "json_get['faces'][0]['attributes']['age']"
   ]
  },
  {
   "cell_type": "code",
   "execution_count": 10,
   "metadata": {},
   "outputs": [
    {
     "data": {
      "text/plain": [
       "{'width': 220, 'top': 291, 'left': 244, 'height': 220}"
      ]
     },
     "execution_count": 10,
     "metadata": {},
     "output_type": "execute_result"
    }
   ],
   "source": [
    "json_get['faces'][0]['face_rectangle']"
   ]
  },
  {
   "cell_type": "code",
   "execution_count": 11,
   "metadata": {},
   "outputs": [
    {
     "data": {
      "text/plain": [
       "(881, 1255, 3)"
      ]
     },
     "execution_count": 11,
     "metadata": {},
     "output_type": "execute_result"
    }
   ],
   "source": [
    "import cv2\n",
    "import numpy as np\n",
    "\n",
    "pic = cv2.imread('face.jpg')\n",
    "\n",
    "np.shape(pic)"
   ]
  },
  {
   "cell_type": "code",
   "execution_count": 13,
   "metadata": {},
   "outputs": [
    {
     "data": {
      "text/plain": [
       "<matplotlib.image.AxesImage at 0x28125b41c18>"
      ]
     },
     "execution_count": 13,
     "metadata": {},
     "output_type": "execute_result"
    },
    {
     "data": {
      "image/png": "[encoded data removed]",
      "text/plain": [
       "<Figure size 432x288 with 1 Axes>"
      ]
     },
     "metadata": {},
     "output_type": "display_data"
    }
   ],
   "source": [
    "rect = json_get['faces'][0]['face_rectangle']\n",
    "face_0 = pic[rect['top']:rect['top'] + rect['height'], rect['left']:rect['left'] + rect['width']]\n",
    "\n",
    "from matplotlib import pyplot as plt\n",
    "\n",
    "face_0 = face_0[:,:,::-1]\n",
    "plt.imshow(face_0)"
   ]
  },
  {
   "cell_type": "markdown",
   "metadata": {},
   "source": [
    "# 百度OCR"
   ]
  },
  {
   "cell_type": "markdown",
   "metadata": {},
   "source": [
    "https://ai.baidu.com/docs#/OCR-API/top"
   ]
  },
  {
   "cell_type": "markdown",
   "metadata": {},
   "source": [
    "![title](IMG/list.jpg)"
   ]
  },
  {
   "cell_type": "code",
   "execution_count": 3,
   "metadata": {},
   "outputs": [],
   "source": [
    "#coding=utf-8\n",
    "\n",
    "from aip import AipOcr\n",
    "\n",
    "APP_ID = '********'\n",
    "\n",
    "API_KEY = '********'\n",
    "\n",
    "SECRET_KEY = '********'\n",
    "\n",
    "client = AipOcr(APP_ID, API_KEY, SECRET_KEY)\n",
    "\n",
    " \n",
    "\n",
    "def get_file_content(filePath):\n",
    "\n",
    "    with open(filePath, 'rb') as fp:\n",
    "\n",
    "        return fp.read()\n",
    "\n",
    " \n",
    "\n",
    "options = {\n",
    "\n",
    "        'detect_direction': 'true',\n",
    "\n",
    "        'language_type': 'ENG',\n",
    "\n",
    "        'detect_risk': 'false',\n",
    "\n",
    "}\n",
    "\n",
    "\n",
    "image = get_file_content('IMG/list.jpg')\n",
    "\n",
    "res = client.general(image, options)"
   ]
  },
  {
   "cell_type": "code",
   "execution_count": 4,
   "metadata": {},
   "outputs": [
    {
     "data": {
      "text/plain": [
       "{'log_id': 8015907382249004010,\n",
       " 'direction': 0,\n",
       " 'words_result_num': 89,\n",
       " 'words_result': [{'location': {'width': 169,\n",
       "    'top': 102,\n",
       "    'left': 761,\n",
       "    'height': 31},\n",
       "   'words': 'PACKING LIST'},\n",
       "  {'location': {'width': 285, 'top': 228, 'left': 164, 'height': 28},\n",
       "   'words': 'Tyco Safety Products ( SHENYANG ) Co . , LT'},\n",
       "  {'location': {'width': 101, 'top': 236, 'left': 882, 'height': 21},\n",
       "   'words': '( a ) Invoice No'},\n",
       "  {'location': {'width': 86, 'top': 237, 'left': 1297, 'height': 20},\n",
       "   'words': 'INVC000467'},\n",
       "  {'location': {'width': 113, 'top': 262, 'left': 162, 'height': 21},\n",
       "   'words': '33 SHWI ROAD'},\n",
       "  {'location': {'width': 110, 'top': 269, 'left': 886, 'height': 21},\n",
       "   'words': 'b ) Invoice Date'},\n",
       "  {'location': {'width': 61, 'top': 270, 'left': 1321, 'height': 20},\n",
       "   'words': '16-Jan-1'},\n",
       "  {'location': {'width': 176, 'top': 293, 'left': 165, 'height': 24},\n",
       "   'words': 'HUNNAN NEW DISTRICT'},\n",
       "  {'location': {'width': 198, 'top': 299, 'left': 521, 'height': 21},\n",
       "   'words': 'Country of Final Destin ation'},\n",
       "  {'location': {'width': 160, 'top': 300, 'left': 880, 'height': 23},\n",
       "   'words': '( c ) Purchase Order No'},\n",
       "  {'location': {'width': 218, 'top': 328, 'left': 164, 'height': 21},\n",
       "   'words': 'SHENYANG , LIAONING CHINA'},\n",
       "  {'location': {'width': 242, 'top': 330, 'left': 579, 'height': 21},\n",
       "   'words': 'ROTTERDAM . THE NETHERLANDS'},\n",
       "  {'location': {'width': 132, 'top': 332, 'left': 880, 'height': 23},\n",
       "   'words': '( d ) B , L or AWB No'},\n",
       "  {'location': {'width': 83, 'top': 359, 'left': 113, 'height': 23},\n",
       "   'words': 'Consignee'},\n",
       "  {'location': {'width': 194, 'top': 363, 'left': 529, 'height': 24},\n",
       "   'words': 'ustoms Broker / Notify Party'},\n",
       "  {'location': {'width': 118, 'top': 365, 'left': 886, 'height': 23},\n",
       "   'words': 'e ) Terms of Sale'},\n",
       "  {'location': {'width': 192, 'top': 391, 'left': 164, 'height': 24},\n",
       "   'words': 'TYCO SAFETY PRODJCTS'},\n",
       "  {'location': {'width': 128, 'top': 397, 'left': 879, 'height': 23},\n",
       "   'words': '( 0 S / 0 Delivering :'},\n",
       "  {'location': {'width': 258, 'top': 423, 'left': 164, 'height': 24},\n",
       "   'words': 'EUROPEAN DISTRIBUTION CENTER'},\n",
       "  {'location': {'width': 134, 'top': 427, 'left': 884, 'height': 24},\n",
       "   'words': '9 ] REFERENCE NO'},\n",
       "  {'location': {'width': 160, 'top': 453, 'left': 162, 'height': 25},\n",
       "   'words': 'VOLTAWEG 20 ECH'},\n",
       "  {'location': {'width': 172, 'top': 489, 'left': 162, 'height': 21},\n",
       "   'words': '6101 XK NETHERLANDS'},\n",
       "  {'location': {'width': 131, 'top': 492, 'left': 516, 'height': 23},\n",
       "   'words': 'Country ofExport'},\n",
       "  {'location': {'width': 60, 'top': 493, 'left': 879, 'height': 23},\n",
       "   'words': '( b ) ETA'},\n",
       "  {'location': {'width': 65, 'top': 522, 'left': 112, 'height': 21},\n",
       "   'words': 'Shipper :'},\n",
       "  {'location': {'width': 545, 'top': 549, 'left': 161, 'height': 30},\n",
       "   'words': 'Tyco Safety Produts ( SHENYANG ) Co , LTD Name of Exporting Carier'},\n",
       "  {'location': {'width': 157, 'top': 557, 'left': 878, 'height': 24},\n",
       "   'words': 'Vessel Name if Ocean'},\n",
       "  {'location': {'width': 108, 'top': 587, 'left': 162, 'height': 20},\n",
       "   'words': '33 SHIJI ROAD'},\n",
       "  {'location': {'width': 67, 'top': 590, 'left': 664, 'height': 23},\n",
       "   'words': 'TRANSA'},\n",
       "  {'location': {'width': 161, 'top': 619, 'left': 177, 'height': 21},\n",
       "   'words': 'JNNAN NEW DISTRICT'},\n",
       "  {'location': {'width': 180, 'top': 624, 'left': 876, 'height': 24},\n",
       "   'words': 'Total Gross Welght ( KG )'},\n",
       "  {'location': {'width': 56, 'top': 627, 'left': 1323, 'height': 20},\n",
       "   'words': '171072'},\n",
       "  {'location': {'width': 222, 'top': 653, 'left': 160, 'height': 21},\n",
       "   'words': 'SHENYANG , LAONING , CHINA'},\n",
       "  {'location': {'width': 217, 'top': 657, 'left': 876, 'height': 24},\n",
       "   'words': 'Number and Kind of Packages'},\n",
       "  {'location': {'width': 181, 'top': 715, 'left': 161, 'height': 24},\n",
       "   'words': 'Tyco Fire Securty GmbH'},\n",
       "  {'location': {'width': 172, 'top': 721, 'left': 876, 'height': 21},\n",
       "   'words': 'Number of Skids / Pallets'},\n",
       "  {'location': {'width': 184, 'top': 747, 'left': 160, 'height': 24},\n",
       "   'words': 'Victor von Bruns StrassE 21'},\n",
       "  {'location': {'width': 99, 'top': 754, 'left': 876, 'height': 20},\n",
       "   'words': 'Containerized'},\n",
       "  {'location': {'width': 203, 'top': 780, 'left': 160, 'height': 21},\n",
       "   'words': '8212 Neuhausen am Rheinfall'},\n",
       "  {'location': {'width': 248, 'top': 786, 'left': 875, 'height': 24},\n",
       "   'words': 'Ocean Container # : 1CKUy1 / 4513'},\n",
       "  {'location': {'width': 146, 'top': 839, 'left': 108, 'height': 20},\n",
       "   'words': 'Ctn . Item Number'},\n",
       "  {'location': {'width': 139, 'top': 840, 'left': 492, 'height': 21},\n",
       "   'words': 'HTS CODE P.O. #'},\n",
       "  {'location': {'width': 31, 'top': 858, 'left': 102, 'height': 25},\n",
       "   'words': 'No'},\n",
       "  {'location': {'width': 253, 'top': 844, 'left': 1073, 'height': 24},\n",
       "   'words': 'Net Welght Gross Weight Total'},\n",
       "  {'location': {'width': 313, 'top': 865, 'left': 798, 'height': 24},\n",
       "   'words': 'Unit ( hw * \" 122 ) ( cm3 ) ( KG )'},\n",
       "  {'location': {'width': 58, 'top': 869, 'left': 1285, 'height': 19},\n",
       "   'words': 'Cartons'},\n",
       "  {'location': {'width': 259, 'top': 899, 'left': 160, 'height': 21},\n",
       "   'words': 'M . J200-G TACK HEAD ASSY . GREY'},\n",
       "  {'location': {'width': 336, 'top': 903, 'left': 537, 'height': 24},\n",
       "   'words': \"osooo 20'6820P ( 45965 ) 325,000 5,000\"},\n",
       "  {'location': {'width': 58, 'top': 907, 'left': 1007, 'height': 17},\n",
       "   'words': '615,610'},\n",
       "  {'location': {'width': 46, 'top': 907, 'left': 1136, 'height': 19},\n",
       "   'words': '376.35'},\n",
       "  {'location': {'width': 50, 'top': 907, 'left': 1234, 'height': 20},\n",
       "   'words': '495 . C0'},\n",
       "  {'location': {'width': 284, 'top': 931, 'left': 108, 'height': 23},\n",
       "   'words': '2 ZL303-G SUPERTAG II GRAY'},\n",
       "  {'location': {'width': 384, 'top': 929, 'left': 490, 'height': 30},\n",
       "   'words': 'ssos9o203s2013370P ( 46756 ) 277 . 000 1.200 )'},\n",
       "  {'location': {'width': 72, 'top': 937, 'left': 997, 'height': 23},\n",
       "   'words': '0.179 . 162'},\n",
       "  {'location': {'width': 53, 'top': 941, 'left': 1128, 'height': 15},\n",
       "   'words': '2330.66'},\n",
       "  {'location': {'width': 58, 'top': 939, 'left': 1226, 'height': 21},\n",
       "   'words': '3158.97'},\n",
       "  {'location': {'width': 281, 'top': 963, 'left': 108, 'height': 24},\n",
       "   'words': '3 ZL303-G SUPERTAG I GRAY'},\n",
       "  {'location': {'width': 77, 'top': 970, 'left': 988, 'height': 20},\n",
       "   'words': '10.053.138'},\n",
       "  {'location': {'width': 54, 'top': 970, 'left': 1128, 'height': 21},\n",
       "   'words': '2388 34'},\n",
       "  {'location': {'width': 49, 'top': 972, 'left': 1225, 'height': 19},\n",
       "   'words': '81165'},\n",
       "  {'location': {'width': 31, 'top': 973, 'left': 1348, 'height': 19},\n",
       "   'words': '273'},\n",
       "  {'location': {'width': 283, 'top': 993, 'left': 106, 'height': 24},\n",
       "   'words': '4 2L303-S SUPERTAG II GRAY'},\n",
       "  {'location': {'width': 348, 'top': 998, 'left': 495, 'height': 25},\n",
       "   'words': '85059020992015620P ( 46955 ) 122 . 00 1'},\n",
       "  {'location': {'width': 71, 'top': 1002, 'left': 995, 'height': 20},\n",
       "   'words': '4 . 371.732'},\n",
       "  {'location': {'width': 50, 'top': 1003, 'left': 1133, 'height': 20},\n",
       "   'words': '290 . 76I'},\n",
       "  {'location': {'width': 203, 'top': 1026, 'left': 175, 'height': 24},\n",
       "   'words': '400A-G ULTRA TAG GRAY'},\n",
       "  {'location': {'width': 378, 'top': 1028, 'left': 486, 'height': 28},\n",
       "   'words': 'ssos90zos9s2009800P046578 ) 180,000 1.00 )'},\n",
       "  {'location': {'width': 58, 'top': 1034, 'left': 1226, 'height': 20},\n",
       "   'words': '1255 . 80'},\n",
       "  {'location': {'width': 530, 'top': 1060, 'left': 176, 'height': 25},\n",
       "   'words': 'DR / K1 USTPlL58KHZ 7500RL WT 30K ssos9020s9 201337OP46756 )'},\n",
       "  {'location': {'width': 151, 'top': 1063, 'left': 1131, 'height': 25},\n",
       "   'words': '424.96 ) 664.80'},\n",
       "  {'location': {'width': 534, 'top': 1092, 'left': 166, 'height': 25},\n",
       "   'words': \"LDR7K51 U'STPIlL , 58KHZ , 7500RL , WHT , 30K 850s90209s 2020 160P 47095 )\"},\n",
       "  {'location': {'width': 57, 'top': 1099, 'left': 1224, 'height': 17},\n",
       "   'words': '1129 60'},\n",
       "  {'location': {'width': 690, 'top': 1122, 'left': 103, 'height': 27},\n",
       "   'words': '6 ZLDRCISK2 USIl , INSERTABLE LABEL , Bc asoss0z0ss / 58 ) 20'},\n",
       "  {'location': {'width': 586, 'top': 1153, 'left': 105, 'height': 25},\n",
       "   'words': '9 ZLDRCI5K2 USIl INSERTABLE LABEL , B / C s50s902099 2016820F14698'},\n",
       "  {'location': {'width': 57, 'top': 1159, 'left': 1006, 'height': 19},\n",
       "   'words': '385.760'},\n",
       "  {'location': {'width': 686, 'top': 1185, 'left': 103, 'height': 30},\n",
       "   'words': '1 LDRS5 ULTRASTRIPlL , SHT . BLK5KCT , V 350s90209201337OF ( 6756 ) 1,440'},\n",
       "  {'location': {'width': 69, 'top': 1190, 'left': 994, 'height': 19},\n",
       "   'words': '8 . 887 . 2C0'},\n",
       "  {'location': {'width': 56, 'top': 1192, 'left': 1124, 'height': 20},\n",
       "   'words': '387380'},\n",
       "  {'location': {'width': 47, 'top': 1194, 'left': 1233, 'height': 15},\n",
       "   'words': '39040'},\n",
       "  {'location': {'width': 600, 'top': 1215, 'left': 103, 'height': 28},\n",
       "   'words': 't1 ZLDRSINGI US I R NRw SHT . NDMVDUAL ssoss0ss 201682021 ( 48985 )'},\n",
       "  {'location': {'width': 54, 'top': 1222, 'left': 1007, 'height': 19},\n",
       "   'words': '184550'},\n",
       "  {'location': {'width': 39, 'top': 1225, 'left': 1140, 'height': 17},\n",
       "   'words': '23.10'},\n",
       "  {'location': {'width': 50, 'top': 1517, 'left': 1072, 'height': 28},\n",
       "   'words': '980'},\n",
       "  {'location': {'width': 43, 'top': 1729, 'left': 1105, 'height': 21},\n",
       "   'words': 'i a'},\n",
       "  {'location': {'width': 53, 'top': 1950, 'left': 99, 'height': 20},\n",
       "   'words': 'Totals :'},\n",
       "  {'location': {'width': 58, 'top': 1956, 'left': 727, 'height': 17},\n",
       "   'words': '1178946'},\n",
       "  {'location': {'width': 165, 'top': 1957, 'left': 1109, 'height': 20},\n",
       "   'words': '15005.09 17107.22'},\n",
       "  {'location': {'width': 352, 'top': 2011, 'left': 97, 'height': 23},\n",
       "   'words': 'Name of Ferson Responsible for Completion & Prone'},\n",
       "  {'location': {'width': 406, 'top': 2045, 'left': 95, 'height': 27},\n",
       "   'words': 'Fang Yanjie ( 86 2483780100.280 ) , Wang Ying B6 24837801C'}]}"
      ]
     },
     "execution_count": 4,
     "metadata": {},
     "output_type": "execute_result"
    }
   ],
   "source": [
    "res"
   ]
  },
  {
   "cell_type": "code",
   "execution_count": null,
   "metadata": {},
   "outputs": [],
   "source": []
  }
 ],
 "metadata": {
  "kernelspec": {
   "display_name": "Python 3",
   "language": "python",
   "name": "python3"
  },
  "language_info": {
   "codemirror_mode": {
    "name": "ipython",
    "version": 3
   },
   "file_extension": ".py",
   "mimetype": "text/x-python",
   "name": "python",
   "nbconvert_exporter": "python",
   "pygments_lexer": "ipython3",
   "version": "3.6.5"
  }
 },
 "nbformat": 4,
 "nbformat_minor": 2
}
