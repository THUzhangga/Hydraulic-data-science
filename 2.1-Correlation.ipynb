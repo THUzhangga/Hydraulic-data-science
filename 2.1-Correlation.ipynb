{
 "cells": [
  {
   "cell_type": "markdown",
   "metadata": {},
   "source": [
    "# 分类变量与分类变量之间的相关分析"
   ]
  },
  {
   "cell_type": "markdown",
   "metadata": {},
   "source": [
    "## 卡方独立性检示例\n",
    "下面是某医院统计的吸烟与患呼吸道疾病列联表\n",
    "\n",
    "|        | 患病 | 不患病 | 总计 |\n",
    "| ------ | ---- | ------ | ---- |\n",
    "| 吸烟   | 37   | 183    | 220  |\n",
    "| 不吸烟 | 21   | 274    | 295  |\n",
    "| 总计   | 58   | 457    | 515  |\n",
    "\n",
    "\n",
    "\n",
    "构造矩阵：\n",
    "\\begin{bmatrix}\n",
    "a & b \\\\\n",
    "c & d\n",
    "\\end{bmatrix}=\\begin{bmatrix}\n",
    "37 & 183 \\\\\n",
    "21 & 274\n",
    "\\end{bmatrix}"
   ]
  },
  {
   "cell_type": "code",
   "execution_count": 2,
   "metadata": {},
   "outputs": [
    {
     "name": "stdout",
     "output_type": "stream",
     "text": [
      "[[ 37. 183.]\n",
      " [ 21. 274.]]\n"
     ]
    }
   ],
   "source": [
    "import numpy as np\n",
    "def Confusion(a, b, c, d):\n",
    "    #       y1  y2\n",
    "    data = np.array(([a, b],     #   x1   a   b\n",
    "                    [c, d]), dtype=np.float)    #   x2   c   d\n",
    "    return(data)\n",
    "\n",
    "confusion = Confusion(37, 183, 21, 274) # a, b, c, d随意定自然数\n",
    "\n",
    "print(confusion)"
   ]
  },
  {
   "cell_type": "markdown",
   "metadata": {},
   "source": [
    "计算：\n",
    "$$\n",
    "\\chi^2=\\frac{n(a d-b c)}{(a+c)(b+d)(a+b)(c+d)}\n",
    "$$\n",
    "其中，\n",
    "$$\n",
    "n=a+b+c+d\n",
    "$$\n",
    "为自由度"
   ]
  },
  {
   "cell_type": "code",
   "execution_count": 3,
   "metadata": {},
   "outputs": [
    {
     "name": "stdout",
     "output_type": "stream",
     "text": [
      "chi2 = 11.863\n"
     ]
    }
   ],
   "source": [
    "def chi_square(confusion):\n",
    "    \n",
    "    a = confusion[0, 0]\n",
    "    b = confusion[0, 1]\n",
    "    c = confusion[1, 0]\n",
    "    d = confusion[1, 1]\n",
    "    \n",
    "    chi2 = (a+b+c+d)*(a*d - b*c)**2/\\\n",
    "    ((a+c)*(b+d)*(a+b)*(c+d))\n",
    "    return chi2\n",
    "\n",
    "chi2 = chi_square(confusion)\n",
    "print('chi2 = %0.3f'%chi2)"
   ]
  },
  {
   "cell_type": "code",
   "execution_count": 4,
   "metadata": {},
   "outputs": [
    {
     "name": "stdout",
     "output_type": "stream",
     "text": [
      "(11.863417309823273, 0.0005724740050827233, 1, array([[ 24.77669903, 195.22330097],\n",
      "       [ 33.22330097, 261.77669903]]))\n"
     ]
    }
   ],
   "source": [
    "from  scipy.stats import chi2_contingency # 导入卡方独立性检验\n",
    "\n",
    "chi2 = chi2_contingency(confusion, correction=False)\n",
    "\n",
    "print(chi2) # (chi2, p-value, df（degree of freedom, 自由度）, expected_frequency) # 这里使用了一个Yates’ correction，令自由度为1"
   ]
  },
  {
   "cell_type": "code",
   "execution_count": 5,
   "metadata": {},
   "outputs": [
    {
     "name": "stdout",
     "output_type": "stream",
     "text": [
      "chi2\t= 11.863,\n",
      "p-value\t= 0.001,\n",
      "df\t= 1,\n",
      "e_freq\t= \n",
      "[[ 24.77669903 195.22330097]\n",
      " [ 33.22330097 261.77669903]]\n"
     ]
    }
   ],
   "source": [
    "print('chi2\\t= %.3f,\\np-value\\t= %.3f,\\ndf\\t= %i,\\ne_freq\\t= \\n%s'%chi2)"
   ]
  },
  {
   "cell_type": "markdown",
   "metadata": {},
   "source": [
    "由于$\\chi^2=11.863>10.913$，即有$P(\\chi^2>10.913)=0.001$，故有99.9%的把握认为吸烟与患病有关系。"
   ]
  },
  {
   "cell_type": "markdown",
   "metadata": {},
   "source": [
    "# 分类变量和度量变量之间的相关分析\n",
    "\n",
    "## F检验示例"
   ]
  },
  {
   "cell_type": "code",
   "execution_count": 21,
   "metadata": {},
   "outputs": [
    {
     "name": "stdout",
     "output_type": "stream",
     "text": [
      "[[0.84 0.54]\n",
      " [1.05 0.64]\n",
      " [1.2  0.64]\n",
      " [1.2  0.75]\n",
      " [1.39 0.76]\n",
      " [1.53 0.81]\n",
      " [1.67 1.16]\n",
      " [1.8  1.2 ]\n",
      " [1.87 1.34]\n",
      " [2.07 1.35]\n",
      " [2.11 1.48]\n",
      " [ nan 1.56]\n",
      " [ nan 1.87]]\n"
     ]
    }
   ],
   "source": [
    "import numpy as np\n",
    "\n",
    "data = np.loadtxt('DATA/Data_F_test.csv', skiprows = 1, delimiter = ',')\n",
    "print(data)"
   ]
  },
  {
   "cell_type": "code",
   "execution_count": 30,
   "metadata": {},
   "outputs": [
    {
     "name": "stdout",
     "output_type": "stream",
     "text": [
      "\n",
      "mean work1 : 1.521, std work1 : 0.402\n",
      "mean work2 : 1.085, std work2 : 0.406\n",
      "\n"
     ]
    }
   ],
   "source": [
    "work1 = data[:11, 0] # 最后两个为NAN（not a number），我们忽略它\n",
    "work0 = data[:, 1]\n",
    "\n",
    "print('''\n",
    "mean work1 : %0.3f, std work1 : %0.3f\n",
    "mean work2 : %0.3f, std work2 : %0.3f\n",
    "'''%(np.average(work1), np.std(work1),\\\n",
    "     np.mean(work0), np.std(work0)))\n",
    "\n"
   ]
  },
  {
   "cell_type": "code",
   "execution_count": 26,
   "metadata": {},
   "outputs": [
    {
     "name": "stdout",
     "output_type": "stream",
     "text": [
      "F_onewayResult(statistic=6.369183061451465, pvalue=0.019337039677992465)\n"
     ]
    }
   ],
   "source": [
    "from  scipy.stats import f_oneway # 调用F检验单侧检验\n",
    "\n",
    "f_oneway = f_oneway(work1, work0)\n",
    "\n",
    "print(f_oneway) # (f, p-value)"
   ]
  },
  {
   "cell_type": "code",
   "execution_count": 32,
   "metadata": {},
   "outputs": [
    {
     "name": "stdout",
     "output_type": "stream",
     "text": [
      "f\t= 6.369\n",
      "p\t= 0.019\n"
     ]
    }
   ],
   "source": [
    "f, p = f_oneway\n",
    "\n",
    "print('f\\t= %0.3f\\np\\t= %0.3f'%(f, p))\n"
   ]
  },
  {
   "cell_type": "markdown",
   "metadata": {},
   "source": [
    "样本的$F$值为6.369，对应的$p$值为0.019，即置信度为$1-0.019=98.066\\%$，故有98.066%的把握认为有关系。"
   ]
  },
  {
   "cell_type": "markdown",
   "metadata": {},
   "source": [
    "# 度量变量和度量变量之间的相关分析\n",
    "\n",
    "## 线性回归的t检验示例"
   ]
  },
  {
   "cell_type": "code",
   "execution_count": 33,
   "metadata": {},
   "outputs": [
    {
     "name": "stdout",
     "output_type": "stream",
     "text": [
      "   A市气温(℃)  B市气温(℃)\n",
      "0       23       21\n",
      "1       25       23\n",
      "2       26       25\n",
      "3       25       26\n",
      "4       21       23\n",
      "5       23       23\n",
      "6       25       26\n",
      "7       27       25\n",
      "8       26       26\n",
      "9       25       25\n"
     ]
    }
   ],
   "source": [
    "import pandas as pd\n",
    "\n",
    "data = pd.read_csv('DATA/Data_T_test.csv', encoding = 'gb18030')\n",
    "print(data)"
   ]
  },
  {
   "cell_type": "code",
   "execution_count": 35,
   "metadata": {},
   "outputs": [
    {
     "name": "stderr",
     "output_type": "stream",
     "text": [
      "D:\\anaconda3\\lib\\site-packages\\matplotlib\\axes\\_axes.py:6462: UserWarning: The 'normed' kwarg is deprecated, and has been replaced by the 'density' kwarg.\n",
      "  warnings.warn(\"The 'normed' kwarg is deprecated, and has been \"\n",
      "D:\\anaconda3\\lib\\site-packages\\matplotlib\\axes\\_axes.py:6462: UserWarning: The 'normed' kwarg is deprecated, and has been replaced by the 'density' kwarg.\n",
      "  warnings.warn(\"The 'normed' kwarg is deprecated, and has been \"\n"
     ]
    },
    {
     "data": {
      "image/png": "[encoded data removed]",
      "text/plain": [
       "<Figure size 432x432 with 3 Axes>"
      ]
     },
     "metadata": {},
     "output_type": "display_data"
    }
   ],
   "source": [
    "import seaborn as sns\n",
    "\n",
    "sns.set(font='SimHei')\n",
    "\n",
    "g = sns.jointplot(\"A市气温(℃)\", \"B市气温(℃)\", data=data,\n",
    "              kind=\"reg\", truncate=False,\n",
    "              xlim=(20, 28), ylim=(20, 28),\n",
    "              color=\"r\")\n",
    "\n",
    "g.savefig(\"output.png\", dpi=300)"
   ]
  },
  {
   "cell_type": "code",
   "execution_count": 36,
   "metadata": {},
   "outputs": [
    {
     "data": {
      "text/html": [
       "<div>\n",
       "<style scoped>\n",
       "    .dataframe tbody tr th:only-of-type {\n",
       "        vertical-align: middle;\n",
       "    }\n",
       "\n",
       "    .dataframe tbody tr th {\n",
       "        vertical-align: top;\n",
       "    }\n",
       "\n",
       "    .dataframe thead th {\n",
       "        text-align: right;\n",
       "    }\n",
       "</style>\n",
       "<table border=\"1\" class=\"dataframe\">\n",
       "  <thead>\n",
       "    <tr style=\"text-align: right;\">\n",
       "      <th></th>\n",
       "      <th>A市气温(℃)</th>\n",
       "      <th>B市气温(℃)</th>\n",
       "    </tr>\n",
       "  </thead>\n",
       "  <tbody>\n",
       "    <tr>\n",
       "      <th>A市气温(℃)</th>\n",
       "      <td>1.000000</td>\n",
       "      <td>0.668485</td>\n",
       "    </tr>\n",
       "    <tr>\n",
       "      <th>B市气温(℃)</th>\n",
       "      <td>0.668485</td>\n",
       "      <td>1.000000</td>\n",
       "    </tr>\n",
       "  </tbody>\n",
       "</table>\n",
       "</div>"
      ],
      "text/plain": [
       "          A市气温(℃)   B市气温(℃)\n",
       "A市气温(℃)  1.000000  0.668485\n",
       "B市气温(℃)  0.668485  1.000000"
      ]
     },
     "execution_count": 36,
     "metadata": {},
     "output_type": "execute_result"
    }
   ],
   "source": [
    "data.corr() # 相关系数矩阵"
   ]
  },
  {
   "cell_type": "code",
   "execution_count": 37,
   "metadata": {},
   "outputs": [
    {
     "name": "stdout",
     "output_type": "stream",
     "text": [
      "r\t= 0.668\n",
      "T\t= 2.542\n"
     ]
    }
   ],
   "source": [
    "r = data.corr().values[0, 1]\n",
    "T = r / (((1 - r ** 2) / 8) ** 0.5)\n",
    "\n",
    "print('r\\t= %0.3f\\nT\\t= %0.3f'%(r, T))"
   ]
  },
  {
   "cell_type": "code",
   "execution_count": 41,
   "metadata": {
    "scrolled": true
   },
   "outputs": [
    {
     "name": "stdout",
     "output_type": "stream",
     "text": [
      "df\t= 8\n",
      "p\t= 0.017\n"
     ]
    }
   ],
   "source": [
    "from scipy import stats\n",
    "\n",
    "df = len(data) - 2\n",
    "\n",
    "p = stats.t.sf(T, df)\n",
    "\n",
    "print('df\\t= %d\\np\\t= %0.3f'%(df, p))\n"
   ]
  },
  {
   "cell_type": "markdown",
   "metadata": {},
   "source": [
    "$T$值对应的$p$值为0.017，即有$1-0.017=98.27\\%$的把握认为A市气温和B市气温有线性关系。"
   ]
  }
 ],
 "metadata": {
  "kernelspec": {
   "display_name": "Python 3",
   "language": "python",
   "name": "python3"
  },
  "language_info": {
   "codemirror_mode": {
    "name": "ipython",
    "version": 3
   },
   "file_extension": ".py",
   "mimetype": "text/x-python",
   "name": "python",
   "nbconvert_exporter": "python",
   "pygments_lexer": "ipython3",
   "version": "3.6.5"
  }
 },
 "nbformat": 4,
 "nbformat_minor": 2
}
